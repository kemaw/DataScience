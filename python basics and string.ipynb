{
 "cells": [
  {
   "cell_type": "code",
   "execution_count": 17,
   "id": "2bc74360-0172-4e5f-82a9-dd1816fe0a97",
   "metadata": {},
   "outputs": [],
   "source": [
    "## Class practice:"
   ]
  },
  {
   "cell_type": "code",
   "execution_count": 2,
   "id": "0a0d3551-86ca-43eb-97dc-8e366c5449ef",
   "metadata": {},
   "outputs": [
    {
     "name": "stdout",
     "output_type": "stream",
     "text": [
      "kemaw kemaw kemaw kemaw kemaw \n"
     ]
    }
   ],
   "source": [
    "b=\"kemaw \" * 5\n",
    "print(b)"
   ]
  },
  {
   "cell_type": "code",
   "execution_count": 3,
   "id": "711a0973-7f6e-4605-9358-815bc7926ffa",
   "metadata": {},
   "outputs": [
    {
     "data": {
      "text/plain": [
       "'Learing Learing Learing Learing Learing Learing Learing Learing Learing Learing '"
      ]
     },
     "execution_count": 3,
     "metadata": {},
     "output_type": "execute_result"
    }
   ],
   "source": [
    "s= \"Learing \" * 10\n",
    "s"
   ]
  },
  {
   "cell_type": "code",
   "execution_count": 4,
   "id": "35ce0d54-582c-4a94-a8dd-84791e249a7e",
   "metadata": {},
   "outputs": [
    {
     "data": {
      "text/plain": [
       "str"
      ]
     },
     "execution_count": 4,
     "metadata": {},
     "output_type": "execute_result"
    }
   ],
   "source": [
    "type(s)"
   ]
  },
  {
   "cell_type": "code",
   "execution_count": 5,
   "id": "a8c647ea-09f6-4989-9a14-857214aa652e",
   "metadata": {},
   "outputs": [
    {
     "data": {
      "text/plain": [
       "80"
      ]
     },
     "execution_count": 5,
     "metadata": {},
     "output_type": "execute_result"
    }
   ],
   "source": [
    "len(s)"
   ]
  },
  {
   "cell_type": "code",
   "execution_count": 10,
   "id": "eb9f6cc7-6674-4ec4-9bc9-9db5de95d868",
   "metadata": {},
   "outputs": [
    {
     "name": "stdout",
     "output_type": "stream",
     "text": [
      "kemaw\n"
     ]
    }
   ],
   "source": [
    "b = \"kemaw\"\n",
    "print(b)"
   ]
  },
  {
   "cell_type": "code",
   "execution_count": 11,
   "id": "bef4264c-e68a-4918-b409-4d63b97ed59e",
   "metadata": {},
   "outputs": [
    {
     "data": {
      "text/plain": [
       "5"
      ]
     },
     "execution_count": 11,
     "metadata": {},
     "output_type": "execute_result"
    }
   ],
   "source": [
    "len(b)"
   ]
  },
  {
   "cell_type": "code",
   "execution_count": 13,
   "id": "04b5521d-a54e-47db-be36-df7015e32a57",
   "metadata": {},
   "outputs": [
    {
     "name": "stdout",
     "output_type": "stream",
     "text": [
      "w\n"
     ]
    }
   ],
   "source": [
    "print(b[4])"
   ]
  },
  {
   "cell_type": "code",
   "execution_count": 14,
   "id": "cc54abc2-7084-45a8-8bb1-104d24024c11",
   "metadata": {},
   "outputs": [
    {
     "data": {
      "text/plain": [
       "'we are learnig python'"
      ]
     },
     "execution_count": 14,
     "metadata": {},
     "output_type": "execute_result"
    }
   ],
   "source": [
    "s = \"we are learnig python\"\n",
    "s"
   ]
  },
  {
   "cell_type": "code",
   "execution_count": 16,
   "id": "95eef71a-8b43-4b8d-94ca-75494b04881b",
   "metadata": {},
   "outputs": [
    {
     "name": "stdout",
     "output_type": "stream",
     "text": [
      "r\n"
     ]
    }
   ],
   "source": [
    "print(s[10])"
   ]
  },
  {
   "cell_type": "code",
   "execution_count": 17,
   "id": "3f1f1f13-1ad6-4aa6-96b0-90c93d0af62c",
   "metadata": {},
   "outputs": [
    {
     "name": "stdout",
     "output_type": "stream",
     "text": [
      "n\n"
     ]
    }
   ],
   "source": [
    "print(s[-1])"
   ]
  },
  {
   "cell_type": "code",
   "execution_count": 19,
   "id": "e0711faf-6efd-4c59-881e-88752d5f8b79",
   "metadata": {},
   "outputs": [
    {
     "name": "stdout",
     "output_type": "stream",
     "text": [
      "n\n"
     ]
    }
   ],
   "source": [
    "print(s[-10])"
   ]
  },
  {
   "cell_type": "code",
   "execution_count": 21,
   "id": "045ea3a2-3743-49b9-b578-c5b06f5b2a76",
   "metadata": {},
   "outputs": [
    {
     "name": "stdout",
     "output_type": "stream",
     "text": [
      "m\n"
     ]
    }
   ],
   "source": [
    "s2 = \"this is my very first programming class's\"\n",
    "print(s2[8])"
   ]
  },
  {
   "cell_type": "code",
   "execution_count": 22,
   "id": "d0964734-d751-4e82-8213-5647f3533572",
   "metadata": {},
   "outputs": [
    {
     "name": "stdout",
     "output_type": "stream",
     "text": [
      "his \n"
     ]
    }
   ],
   "source": [
    "print(s2[1:5])"
   ]
  },
  {
   "cell_type": "code",
   "execution_count": 24,
   "id": "c0802acb-dbc0-4c12-9361-8d2643b5008f",
   "metadata": {},
   "outputs": [
    {
     "name": "stdout",
     "output_type": "stream",
     "text": [
      "his i\n"
     ]
    }
   ],
   "source": [
    "print(s2[1:6])"
   ]
  },
  {
   "cell_type": "code",
   "execution_count": 25,
   "id": "0277dc32-6c76-4e1a-9cad-0e76f8aa8d06",
   "metadata": {},
   "outputs": [
    {
     "name": "stdout",
     "output_type": "stream",
     "text": [
      "s my very first programm\n"
     ]
    }
   ],
   "source": [
    "print(s2[6:30])"
   ]
  },
  {
   "cell_type": "code",
   "execution_count": 26,
   "id": "cf1c8dbd-7aa3-4e99-a176-b5953893c4ba",
   "metadata": {},
   "outputs": [
    {
     "name": "stdout",
     "output_type": "stream",
     "text": [
      "sm eyfrtporm\n"
     ]
    }
   ],
   "source": [
    "print(s2[6:30:2])"
   ]
  },
  {
   "cell_type": "code",
   "execution_count": 27,
   "id": "4aa1293c-6fb1-4668-94a1-e966e960292e",
   "metadata": {},
   "outputs": [
    {
     "name": "stdout",
     "output_type": "stream",
     "text": [
      "h  \n"
     ]
    }
   ],
   "source": [
    "print(s2[1:10:3])"
   ]
  },
  {
   "cell_type": "code",
   "execution_count": 28,
   "id": "8dd15182-0280-4274-b140-612da6c855a7",
   "metadata": {},
   "outputs": [
    {
     "name": "stdout",
     "output_type": "stream",
     "text": [
      "hsi y\n"
     ]
    }
   ],
   "source": [
    "print(s2[1:10:2])"
   ]
  },
  {
   "cell_type": "code",
   "execution_count": 30,
   "id": "4ab9fd64-575b-45d7-a1c2-0426eef9b1b9",
   "metadata": {},
   "outputs": [
    {
     "name": "stdout",
     "output_type": "stream",
     "text": [
      "h   rfspgmncss\n"
     ]
    }
   ],
   "source": [
    "print(s2[1:50:3])"
   ]
  },
  {
   "cell_type": "code",
   "execution_count": 31,
   "id": "952a4eab-078d-47a2-8a0b-96414742e1b0",
   "metadata": {},
   "outputs": [
    {
     "data": {
      "text/plain": [
       "20"
      ]
     },
     "execution_count": 31,
     "metadata": {},
     "output_type": "execute_result"
    }
   ],
   "source": [
    "h= \"learning datascience\"\n",
    "len(h)"
   ]
  },
  {
   "cell_type": "code",
   "execution_count": 32,
   "id": "6ba13651-8454-4e84-be8f-9e24ad5da398",
   "metadata": {},
   "outputs": [
    {
     "name": "stdout",
     "output_type": "stream",
     "text": [
      "learning \n"
     ]
    }
   ],
   "source": [
    "print(h[0:9:1])"
   ]
  },
  {
   "cell_type": "code",
   "execution_count": 35,
   "id": "d380633d-1ff8-4e1c-bcbc-a853341e07f8",
   "metadata": {},
   "outputs": [
    {
     "name": "stdout",
     "output_type": "stream",
     "text": [
      "\n"
     ]
    }
   ],
   "source": [
    "print(h[0:8:-1])"
   ]
  },
  {
   "cell_type": "code",
   "execution_count": 42,
   "id": "fcad0152-6f98-4f96-928e-17b7a0c78787",
   "metadata": {},
   "outputs": [
    {
     "name": "stdout",
     "output_type": "stream",
     "text": [
      "ecneics\n"
     ]
    }
   ],
   "source": [
    "print(h[-1:-8:-1])"
   ]
  },
  {
   "cell_type": "code",
   "execution_count": 44,
   "id": "33ba23ed-2367-444a-921c-528dcc88233c",
   "metadata": {},
   "outputs": [
    {
     "name": "stdout",
     "output_type": "stream",
     "text": [
      " gninrae\n"
     ]
    }
   ],
   "source": [
    "print(h[8:0:-1])"
   ]
  },
  {
   "cell_type": "code",
   "execution_count": 46,
   "id": "17eb0f36-11c7-4e06-b943-4555746252a9",
   "metadata": {},
   "outputs": [
    {
     "name": "stdout",
     "output_type": "stream",
     "text": [
      " nna\n"
     ]
    }
   ],
   "source": [
    "print(h[8:0:-2])"
   ]
  },
  {
   "cell_type": "code",
   "execution_count": 47,
   "id": "9cd3e7e9-808d-4213-914b-025bc509fe92",
   "metadata": {},
   "outputs": [
    {
     "data": {
      "text/plain": [
       "'learning datascie'"
      ]
     },
     "execution_count": 47,
     "metadata": {},
     "output_type": "execute_result"
    }
   ],
   "source": [
    "h[:-3]"
   ]
  },
  {
   "cell_type": "code",
   "execution_count": 48,
   "id": "984c6452-75d8-4b03-98d5-e8fd8d6594af",
   "metadata": {},
   "outputs": [
    {
     "data": {
      "text/plain": [
       "'learning datascien'"
      ]
     },
     "execution_count": 48,
     "metadata": {},
     "output_type": "execute_result"
    }
   ],
   "source": [
    "h[:-2]"
   ]
  },
  {
   "cell_type": "code",
   "execution_count": 49,
   "id": "99e330f1-8f0a-409d-aa84-96e09a1813e4",
   "metadata": {},
   "outputs": [
    {
     "data": {
      "text/plain": [
       "'learning datascien'"
      ]
     },
     "execution_count": 49,
     "metadata": {},
     "output_type": "execute_result"
    }
   ],
   "source": [
    "h[:-2]"
   ]
  },
  {
   "cell_type": "code",
   "execution_count": 51,
   "id": "3bc7a04b-d6f2-4e13-b60b-2ae5f4a1aa0a",
   "metadata": {},
   "outputs": [
    {
     "data": {
      "text/plain": [
       "'ce'"
      ]
     },
     "execution_count": 51,
     "metadata": {},
     "output_type": "execute_result"
    }
   ],
   "source": [
    "h[-2:]"
   ]
  },
  {
   "cell_type": "code",
   "execution_count": 52,
   "id": "fcdbba4a-eefd-41e5-b88a-fa1b69ac8868",
   "metadata": {},
   "outputs": [
    {
     "data": {
      "text/plain": [
       "'learning datascience'"
      ]
     },
     "execution_count": 52,
     "metadata": {},
     "output_type": "execute_result"
    }
   ],
   "source": [
    "h[::1]"
   ]
  },
  {
   "cell_type": "code",
   "execution_count": 53,
   "id": "88eb5c99-afd5-4bf6-b7fb-68bed43d6b4b",
   "metadata": {},
   "outputs": [
    {
     "data": {
      "text/plain": [
       "'ecneicsatad gninrael'"
      ]
     },
     "execution_count": 53,
     "metadata": {},
     "output_type": "execute_result"
    }
   ],
   "source": [
    "h[::-1]"
   ]
  },
  {
   "cell_type": "code",
   "execution_count": 54,
   "id": "3915e645-2710-4398-967e-4fdcfa95ccd5",
   "metadata": {},
   "outputs": [
    {
     "data": {
      "text/plain": [
       "'learning datascience'"
      ]
     },
     "execution_count": 54,
     "metadata": {},
     "output_type": "execute_result"
    }
   ],
   "source": [
    "h[0:50:1]"
   ]
  },
  {
   "cell_type": "code",
   "execution_count": 55,
   "id": "8e3b7666-6fc5-4567-a008-50ecc9f3c69b",
   "metadata": {},
   "outputs": [
    {
     "data": {
      "text/plain": [
       "'learning datascience'"
      ]
     },
     "execution_count": 55,
     "metadata": {},
     "output_type": "execute_result"
    }
   ],
   "source": [
    "h"
   ]
  },
  {
   "cell_type": "code",
   "execution_count": 56,
   "id": "796837ba-c021-4982-9f5f-743530a9b026",
   "metadata": {},
   "outputs": [
    {
     "data": {
      "text/plain": [
       "''"
      ]
     },
     "execution_count": 56,
     "metadata": {},
     "output_type": "execute_result"
    }
   ],
   "source": [
    "h[8:0:1]"
   ]
  },
  {
   "cell_type": "code",
   "execution_count": 57,
   "id": "d55c6c32-3260-49a6-bdb6-d071aff1fe89",
   "metadata": {},
   "outputs": [
    {
     "data": {
      "text/plain": [
       "' nna'"
      ]
     },
     "execution_count": 57,
     "metadata": {},
     "output_type": "execute_result"
    }
   ],
   "source": [
    "h[8:0:-2]"
   ]
  },
  {
   "cell_type": "code",
   "execution_count": 58,
   "id": "6a3752a8-f9f5-4ef8-bb5d-08ba26901636",
   "metadata": {},
   "outputs": [
    {
     "data": {
      "text/plain": [
       "29"
      ]
     },
     "execution_count": 58,
     "metadata": {},
     "output_type": "execute_result"
    }
   ],
   "source": [
    "l= \"learning datascience in Amend\"\n",
    "len(l)"
   ]
  },
  {
   "cell_type": "code",
   "execution_count": 60,
   "id": "f013bc2f-8db7-4af7-9fe4-6dfe3e991f55",
   "metadata": {},
   "outputs": [
    {
     "data": {
      "text/plain": [
       "''"
      ]
     },
     "execution_count": 60,
     "metadata": {},
     "output_type": "execute_result"
    }
   ],
   "source": [
    "l[-2:-7:1]"
   ]
  },
  {
   "cell_type": "code",
   "execution_count": 61,
   "id": "725f64cd-50d6-42d7-9967-c21efa1cab97",
   "metadata": {},
   "outputs": [
    {
     "data": {
      "text/plain": [
       "'n Ame'"
      ]
     },
     "execution_count": 61,
     "metadata": {},
     "output_type": "execute_result"
    }
   ],
   "source": [
    "l[-7:-2:1]"
   ]
  },
  {
   "cell_type": "code",
   "execution_count": 62,
   "id": "3a3bb1b6-f001-454c-9c61-0e7dfe61ad3a",
   "metadata": {},
   "outputs": [
    {
     "data": {
      "text/plain": [
       "''"
      ]
     },
     "execution_count": 62,
     "metadata": {},
     "output_type": "execute_result"
    }
   ],
   "source": [
    "l[5:0]"
   ]
  },
  {
   "cell_type": "code",
   "execution_count": 63,
   "id": "da6205aa-6ed7-49c7-b7d0-f94e0b50b0d3",
   "metadata": {},
   "outputs": [
    {
     "data": {
      "text/plain": [
       "'n Amen'"
      ]
     },
     "execution_count": 63,
     "metadata": {},
     "output_type": "execute_result"
    }
   ],
   "source": [
    "l[-7:-1:1]"
   ]
  },
  {
   "cell_type": "code",
   "execution_count": 64,
   "id": "cf08e339-1049-4573-ad63-b960ea9bf268",
   "metadata": {},
   "outputs": [
    {
     "data": {
      "text/plain": [
       "''"
      ]
     },
     "execution_count": 64,
     "metadata": {},
     "output_type": "execute_result"
    }
   ],
   "source": [
    "l[-7:0:1]"
   ]
  },
  {
   "cell_type": "code",
   "execution_count": 65,
   "id": "cc1d7d7e-dc34-461b-a818-6d9d352cde11",
   "metadata": {},
   "outputs": [
    {
     "data": {
      "text/plain": [
       "0"
      ]
     },
     "execution_count": 65,
     "metadata": {},
     "output_type": "execute_result"
    }
   ],
   "source": [
    "l.count(\"sum\")"
   ]
  },
  {
   "cell_type": "code",
   "execution_count": 67,
   "id": "c794e6ca-98a7-4ad2-8db9-ed1e5b237f23",
   "metadata": {},
   "outputs": [
    {
     "data": {
      "text/plain": [
       "1"
      ]
     },
     "execution_count": 67,
     "metadata": {},
     "output_type": "execute_result"
    }
   ],
   "source": [
    "l.count(\"learning\")"
   ]
  },
  {
   "cell_type": "code",
   "execution_count": 68,
   "id": "ebd8fe41-fa22-4eb3-a840-5d13a24c907b",
   "metadata": {},
   "outputs": [
    {
     "data": {
      "text/plain": [
       "['le', 'rning d', 't', 'science in Amend']"
      ]
     },
     "execution_count": 68,
     "metadata": {},
     "output_type": "execute_result"
    }
   ],
   "source": [
    "l.split(\"a\")"
   ]
  },
  {
   "cell_type": "code",
   "execution_count": 69,
   "id": "bcb8181b-b119-47cc-937b-eea07c036faa",
   "metadata": {},
   "outputs": [
    {
     "data": {
      "text/plain": [
       "list"
      ]
     },
     "execution_count": 69,
     "metadata": {},
     "output_type": "execute_result"
    }
   ],
   "source": [
    "type(l.split(\"a\"))"
   ]
  },
  {
   "cell_type": "code",
   "execution_count": 1,
   "id": "11a36a60-1097-4d2d-bc83-c09e4ecf9088",
   "metadata": {},
   "outputs": [
    {
     "name": "stdout",
     "output_type": "stream",
     "text": [
      "Python refers to a high-level, versatile programming language known for its readability and ease of use. \n",
      "It's used for a wide range of applications, including web development, data analysis, automation, and even machine learning. \n",
      "Python's design philosophy emphasizes code clarity, making it a popular choice for both beginners and experienced developers.\n"
     ]
    }
   ],
   "source": [
    "python = \"\"\"Python refers to a high-level, versatile programming language known for its readability and ease of use. \n",
    "It's used for a wide range of applications, including web development, data analysis, automation, and even machine learning. \n",
    "Python's design philosophy emphasizes code clarity, making it a popular choice for both beginners and experienced developers.\"\"\"\n",
    "print(python)"
   ]
  },
  {
   "cell_type": "code",
   "execution_count": 2,
   "id": "a2816200-b5be-405f-9843-1309e51a1a42",
   "metadata": {},
   "outputs": [
    {
     "name": "stdout",
     "output_type": "stream",
     "text": [
      "['Python', 'refers', 'to', 'a', 'high-level,', 'versatile', 'programming', 'language', 'known', 'for', 'its', 'readability', 'and', 'ease', 'of', 'use.', \"\\nIt's\", 'used', 'for', 'a', 'wide', 'range', 'of', 'applications,', 'including', 'web', 'development,', 'data', 'analysis,', 'automation,', 'and', 'even', 'machine', 'learning.', \"\\nPython's\", 'design', 'philosophy', 'emphasizes', 'code', 'clarity,', 'making', 'it', 'a', 'popular', 'choice', 'for', 'both', 'beginners', 'and', 'experienced', 'developers.']\n"
     ]
    }
   ],
   "source": [
    "print(python.split(' '))"
   ]
  },
  {
   "cell_type": "code",
   "execution_count": 3,
   "id": "b1fed632-0b06-4004-a7e3-325ef2afc1d7",
   "metadata": {},
   "outputs": [
    {
     "data": {
      "text/plain": [
       "'Data Science At Amend'"
      ]
     },
     "execution_count": 3,
     "metadata": {},
     "output_type": "execute_result"
    }
   ],
   "source": [
    "t= \"data science at amend\"\n",
    "t.title()"
   ]
  },
  {
   "cell_type": "code",
   "execution_count": 4,
   "id": "89ac6131-ddb9-45dc-8468-77c3222f2595",
   "metadata": {},
   "outputs": [
    {
     "data": {
      "text/plain": [
       "'Data science at amend'"
      ]
     },
     "execution_count": 4,
     "metadata": {},
     "output_type": "execute_result"
    }
   ],
   "source": [
    "t.capitalize()"
   ]
  },
  {
   "cell_type": "code",
   "execution_count": 7,
   "id": "0c879406-57ef-4933-81fa-8cbd707cc359",
   "metadata": {},
   "outputs": [
    {
     "data": {
      "text/plain": [
       "'kEMaw aSAlif'"
      ]
     },
     "execution_count": 7,
     "metadata": {},
     "output_type": "execute_result"
    }
   ],
   "source": [
    "t= \"KemAW AsaLIF\"\n",
    "t.swapcase()"
   ]
  },
  {
   "cell_type": "code",
   "execution_count": 10,
   "id": "6ad0ed52-00c3-40ac-be48-8a6e984c9ea7",
   "metadata": {},
   "outputs": [
    {
     "name": "stdout",
     "output_type": "stream",
     "text": [
      "<reversed object at 0x000001A27EB59EA0>\n"
     ]
    }
   ],
   "source": [
    "print(reversed(t))"
   ]
  },
  {
   "cell_type": "code",
   "execution_count": 11,
   "id": "16981e71-4f80-45b4-9bc1-3cf5733e1e28",
   "metadata": {},
   "outputs": [
    {
     "data": {
      "text/plain": [
       "'FILasA WAmeK'"
      ]
     },
     "execution_count": 11,
     "metadata": {},
     "output_type": "execute_result"
    }
   ],
   "source": [
    "''.join(reversed(t))"
   ]
  },
  {
   "cell_type": "code",
   "execution_count": 18,
   "id": "4e448d21-4504-4aff-96ca-bbbbde3ac708",
   "metadata": {},
   "outputs": [
    {
     "data": {
      "text/plain": [
       "'KemAW AsaLIF'"
      ]
     },
     "execution_count": 18,
     "metadata": {},
     "output_type": "execute_result"
    }
   ],
   "source": [
    "t.strip()"
   ]
  },
  {
   "cell_type": "code",
   "execution_count": 19,
   "id": "a938aa4a-f785-40dc-892f-ea90ceab70fb",
   "metadata": {},
   "outputs": [
    {
     "data": {
      "text/plain": [
       "'Data     Science'"
      ]
     },
     "execution_count": 19,
     "metadata": {},
     "output_type": "execute_result"
    }
   ],
   "source": [
    "s = \"  Data     Science    \"\n",
    "s.strip()"
   ]
  },
  {
   "cell_type": "code",
   "execution_count": 20,
   "id": "34d23f5a-d5fc-4392-bed0-8864d450bdb7",
   "metadata": {},
   "outputs": [
    {
     "data": {
      "text/plain": [
       "'Maaacahaianaea aLaeaaaranaianag'"
      ]
     },
     "execution_count": 20,
     "metadata": {},
     "output_type": "execute_result"
    }
   ],
   "source": [
    "\"a\".join(\"Machine Learning\")"
   ]
  },
  {
   "cell_type": "code",
   "execution_count": 21,
   "id": "853052a3-8f5b-4147-8542-a34880c35acf",
   "metadata": {},
   "outputs": [
    {
     "data": {
      "text/plain": [
       "'mtg atg rtg y'"
      ]
     },
     "execution_count": 21,
     "metadata": {},
     "output_type": "execute_result"
    }
   ],
   "source": [
    "\"tg \".join(\"mary\")"
   ]
  },
  {
   "cell_type": "code",
   "execution_count": 22,
   "id": "aba4e09a-47ae-4629-8caf-13ac0f6c4efa",
   "metadata": {},
   "outputs": [
    {
     "data": {
      "text/plain": [
       "'#######kemaw########'"
      ]
     },
     "execution_count": 22,
     "metadata": {},
     "output_type": "execute_result"
    }
   ],
   "source": [
    "k = \"kemaw\"\n",
    "k.center(20, \"#\")"
   ]
  },
  {
   "cell_type": "code",
   "execution_count": 23,
   "id": "6f14b77e-6ba1-4c81-9e47-0e33bdb92deb",
   "metadata": {},
   "outputs": [
    {
     "data": {
      "text/plain": [
       "'@@@@@@@@@@@@@Amha@@@@@@@@@@@@@'"
      ]
     },
     "execution_count": 23,
     "metadata": {},
     "output_type": "execute_result"
    }
   ],
   "source": [
    "a = \"Amha\"\n",
    "a.center(30, \"@\")"
   ]
  },
  {
   "cell_type": "code",
   "execution_count": 24,
   "id": "6ef55029-224c-404e-a968-c5b21fa6bac4",
   "metadata": {},
   "outputs": [
    {
     "data": {
      "text/plain": [
       "False"
      ]
     },
     "execution_count": 24,
     "metadata": {},
     "output_type": "execute_result"
    }
   ],
   "source": [
    "u = \"aIMNXT\"\n",
    "u.isupper()"
   ]
  },
  {
   "cell_type": "code",
   "execution_count": 25,
   "id": "b30de6e9-5fc8-4575-8f26-11a8da61c4ba",
   "metadata": {},
   "outputs": [
    {
     "data": {
      "text/plain": [
       "False"
      ]
     },
     "execution_count": 25,
     "metadata": {},
     "output_type": "execute_result"
    }
   ],
   "source": [
    "u.isspace()"
   ]
  },
  {
   "cell_type": "code",
   "execution_count": 26,
   "id": "125fb889-c709-4d52-9906-21486457738d",
   "metadata": {},
   "outputs": [
    {
     "data": {
      "text/plain": [
       "False"
      ]
     },
     "execution_count": 26,
     "metadata": {},
     "output_type": "execute_result"
    }
   ],
   "source": [
    "u.isdigit()"
   ]
  },
  {
   "cell_type": "code",
   "execution_count": 27,
   "id": "162c1744-9950-4e0b-892f-8b0a0ec20c2d",
   "metadata": {},
   "outputs": [],
   "source": [
    "r= \"Amend\""
   ]
  },
  {
   "cell_type": "code",
   "execution_count": null,
   "id": "b71d3fbd-9102-4ff1-bbeb-e8e633ba80af",
   "metadata": {},
   "outputs": [],
   "source": []
  }
 ],
 "metadata": {
  "kernelspec": {
   "display_name": "Python 3 (ipykernel)",
   "language": "python",
   "name": "python3"
  },
  "language_info": {
   "codemirror_mode": {
    "name": "ipython",
    "version": 3
   },
   "file_extension": ".py",
   "mimetype": "text/x-python",
   "name": "python",
   "nbconvert_exporter": "python",
   "pygments_lexer": "ipython3",
   "version": "3.13.5"
  }
 },
 "nbformat": 4,
 "nbformat_minor": 5
}
